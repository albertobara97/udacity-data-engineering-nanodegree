{
 "cells": [
  {
   "cell_type": "code",
   "execution_count": 4,
   "metadata": {
    "editable": true
   },
   "outputs": [],
   "source": [
    "import configparser\n",
    "import boto3\n",
    "import psycopg2"
   ]
  },
  {
   "cell_type": "markdown",
   "metadata": {
    "editable": true
   },
   "source": [
    "# Presets\n",
    "Connect to the AWS Redshift cluster and creating the table dictionaries "
   ]
  },
  {
   "cell_type": "code",
   "execution_count": 38,
   "metadata": {
    "editable": true
   },
   "outputs": [],
   "source": [
    "config = configparser.ConfigParser()\n",
    "config.read(\"dwh.cfg\")\n",
    "\n",
    "conn = psycopg2.connect(\"host={} dbname={} user={} password={} port={}\".format(*config['CLUSTER'].values()))\n",
    "cur = conn.cursor()\n",
    "cur.execute(\"SET AUTOCOMMIT TO TRUE\")\n",
    "\n",
    "staging_tables = {}\n",
    "final_tables = {}"
   ]
  },
  {
   "cell_type": "markdown",
   "metadata": {
    "editable": true
   },
   "source": [
    "# Tables creation and ETL\n",
    "Execute the 2 python scripts [etl.py](etl.py) and [create_tables.py](create_tables.py) to populate our AWS cluster"
   ]
  },
  {
   "cell_type": "code",
   "execution_count": null,
   "metadata": {
    "editable": true
   },
   "outputs": [],
   "source": [
    "#This chunk may take a while (~10 min)\n",
    "\n",
    "%run create_tables.py\n",
    "%run ETL.py"
   ]
  },
  {
   "cell_type": "markdown",
   "metadata": {
    "editable": true
   },
   "source": [
    "# Staging tables\n",
    "Get number of rows from staging tables"
   ]
  },
  {
   "cell_type": "code",
   "execution_count": 40,
   "metadata": {
    "editable": true
   },
   "outputs": [],
   "source": [
    "# Get count of all staging_events rows\n",
    "cur.execute(\"select count(*) from staging_events\")\n",
    "staging_tables['staging_events'] = cur.fetchone()[0]\n",
    "\n",
    "# Get count of all staging_songs rows\n",
    "cur.execute(\"select count(*) from staging_songs\")\n",
    "staging_tables['staging_songs'] = cur.fetchone()[0]"
   ]
  },
  {
   "cell_type": "markdown",
   "metadata": {
    "editable": true
   },
   "source": [
    "# Final tables\n",
    "Get number of rows from final tables"
   ]
  },
  {
   "cell_type": "code",
   "execution_count": 41,
   "metadata": {
    "editable": true
   },
   "outputs": [],
   "source": [
    "# Get count of all songplays rows\n",
    "cur.execute(\"select count(*) from songplays\")\n",
    "final_tables['songplays'] = cur.fetchone()[0]\n",
    "\n",
    "# Get count of all users rows\n",
    "cur.execute(\"select count(*) from users\")\n",
    "final_tables['users'] = cur.fetchone()[0]\n",
    "\n",
    "# Get count of all time rows\n",
    "cur.execute(\"select count(*) from time\")\n",
    "final_tables['time'] = cur.fetchone()[0]\n",
    "\n",
    "# Get count of all artists rows\n",
    "cur.execute(\"select count(*) from artists\")\n",
    "final_tables['artists'] = cur.fetchone()[0]\n",
    "\n",
    "# Get count of all songs rows\n",
    "cur.execute(\"select count(*) from songs\")\n",
    "final_tables['songs'] = cur.fetchone()[0]"
   ]
  },
  {
   "cell_type": "markdown",
   "metadata": {
    "editable": true
   },
   "source": [
    "# Show data\n",
    "Display the number of rows that are on each table to have the running totals (size) of each table "
   ]
  },
  {
   "cell_type": "code",
   "execution_count": 47,
   "metadata": {
    "editable": true
   },
   "outputs": [
    {
     "name": "stdout",
     "output_type": "stream",
     "text": [
      "\n",
      "\n",
      "Staging tables:\n",
      "-------------------\n",
      "staging_events :  32224\n",
      "staging_songs :  59584\n",
      "\n",
      "\n",
      "Final tables:\n",
      "-------------------\n",
      "songplays :  31276\n"
     ]
    }
   ],
   "source": [
    "print(\"\\n\\nStaging tables:\\n-------------------\")\n",
    "\n",
    "for row in staging_tables:\n",
    "    print(row, \": \", staging_tables[row])\n",
    "    \n",
    "print(\"\\n\\nFinal tables:\\n-------------------\")\n",
    "    \n",
    "for row in final_tables:\n",
    "    print(row, \": \", final_tables[row])"
   ]
  },
  {
   "cell_type": "code",
   "execution_count": null,
   "metadata": {
    "editable": true
   },
   "outputs": [],
   "source": []
  }
 ],
 "metadata": {
  "kernelspec": {
   "display_name": "Python 3",
   "language": "python",
   "name": "python3"
  },
  "language_info": {
   "codemirror_mode": {
    "name": "ipython",
    "version": 3
   },
   "file_extension": ".py",
   "mimetype": "text/x-python",
   "name": "python",
   "nbconvert_exporter": "python",
   "pygments_lexer": "ipython3",
   "version": "3.6.3"
  }
 },
 "nbformat": 4,
 "nbformat_minor": 4
}
